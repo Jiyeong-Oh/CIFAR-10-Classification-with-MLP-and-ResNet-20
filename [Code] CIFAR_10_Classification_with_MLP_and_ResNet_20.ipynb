{
  "nbformat": 4,
  "nbformat_minor": 0,
  "metadata": {
    "colab": {
      "name": "CIFAR-10 Classification with MLP and ResNet-20.ipynb",
      "provenance": [],
      "collapsed_sections": [],
      "authorship_tag": "ABX9TyObMu/58r6UiLV8dligt/eA",
      "include_colab_link": true
    },
    "kernelspec": {
      "name": "python3",
      "display_name": "Python 3"
    },
    "language_info": {
      "name": "python"
    },
    "widgets": {
      "application/vnd.jupyter.widget-state+json": {
        "a6e8af8351fa4ff9af579c0aef511098": {
          "model_module": "@jupyter-widgets/controls",
          "model_name": "HBoxModel",
          "model_module_version": "1.5.0",
          "state": {
            "_dom_classes": [],
            "_model_module": "@jupyter-widgets/controls",
            "_model_module_version": "1.5.0",
            "_model_name": "HBoxModel",
            "_view_count": null,
            "_view_module": "@jupyter-widgets/controls",
            "_view_module_version": "1.5.0",
            "_view_name": "HBoxView",
            "box_style": "",
            "children": [
              "IPY_MODEL_78eddaeaa1f9482880d6acd94f36379e",
              "IPY_MODEL_2602fa2422b84c889253cb80a9278d7f",
              "IPY_MODEL_b44300755744451e842795c4330148c4"
            ],
            "layout": "IPY_MODEL_43d901fdd0cb48deb5660505d047c438"
          }
        },
        "78eddaeaa1f9482880d6acd94f36379e": {
          "model_module": "@jupyter-widgets/controls",
          "model_name": "HTMLModel",
          "model_module_version": "1.5.0",
          "state": {
            "_dom_classes": [],
            "_model_module": "@jupyter-widgets/controls",
            "_model_module_version": "1.5.0",
            "_model_name": "HTMLModel",
            "_view_count": null,
            "_view_module": "@jupyter-widgets/controls",
            "_view_module_version": "1.5.0",
            "_view_name": "HTMLView",
            "description": "",
            "description_tooltip": null,
            "layout": "IPY_MODEL_c5ab104559b74a4ea572aa8d777e01ab",
            "placeholder": "​",
            "style": "IPY_MODEL_62c39bcb497a40a79e67f31db3d3cc22",
            "value": ""
          }
        },
        "2602fa2422b84c889253cb80a9278d7f": {
          "model_module": "@jupyter-widgets/controls",
          "model_name": "FloatProgressModel",
          "model_module_version": "1.5.0",
          "state": {
            "_dom_classes": [],
            "_model_module": "@jupyter-widgets/controls",
            "_model_module_version": "1.5.0",
            "_model_name": "FloatProgressModel",
            "_view_count": null,
            "_view_module": "@jupyter-widgets/controls",
            "_view_module_version": "1.5.0",
            "_view_name": "ProgressView",
            "bar_style": "success",
            "description": "",
            "description_tooltip": null,
            "layout": "IPY_MODEL_ae0cb2afdbfc4e858ea8dbe6d5c02188",
            "max": 170498071,
            "min": 0,
            "orientation": "horizontal",
            "style": "IPY_MODEL_edee46c846374faeb8b772293b693c23",
            "value": 170498071
          }
        },
        "b44300755744451e842795c4330148c4": {
          "model_module": "@jupyter-widgets/controls",
          "model_name": "HTMLModel",
          "model_module_version": "1.5.0",
          "state": {
            "_dom_classes": [],
            "_model_module": "@jupyter-widgets/controls",
            "_model_module_version": "1.5.0",
            "_model_name": "HTMLModel",
            "_view_count": null,
            "_view_module": "@jupyter-widgets/controls",
            "_view_module_version": "1.5.0",
            "_view_name": "HTMLView",
            "description": "",
            "description_tooltip": null,
            "layout": "IPY_MODEL_341e28cb6bdb465d8f6ef36e9f2209e5",
            "placeholder": "​",
            "style": "IPY_MODEL_30bb983fca8d4b9c8a1960d0479f7aae",
            "value": " 170499072/? [00:06&lt;00:00, 28356048.56it/s]"
          }
        },
        "43d901fdd0cb48deb5660505d047c438": {
          "model_module": "@jupyter-widgets/base",
          "model_name": "LayoutModel",
          "model_module_version": "1.2.0",
          "state": {
            "_model_module": "@jupyter-widgets/base",
            "_model_module_version": "1.2.0",
            "_model_name": "LayoutModel",
            "_view_count": null,
            "_view_module": "@jupyter-widgets/base",
            "_view_module_version": "1.2.0",
            "_view_name": "LayoutView",
            "align_content": null,
            "align_items": null,
            "align_self": null,
            "border": null,
            "bottom": null,
            "display": null,
            "flex": null,
            "flex_flow": null,
            "grid_area": null,
            "grid_auto_columns": null,
            "grid_auto_flow": null,
            "grid_auto_rows": null,
            "grid_column": null,
            "grid_gap": null,
            "grid_row": null,
            "grid_template_areas": null,
            "grid_template_columns": null,
            "grid_template_rows": null,
            "height": null,
            "justify_content": null,
            "justify_items": null,
            "left": null,
            "margin": null,
            "max_height": null,
            "max_width": null,
            "min_height": null,
            "min_width": null,
            "object_fit": null,
            "object_position": null,
            "order": null,
            "overflow": null,
            "overflow_x": null,
            "overflow_y": null,
            "padding": null,
            "right": null,
            "top": null,
            "visibility": null,
            "width": null
          }
        },
        "c5ab104559b74a4ea572aa8d777e01ab": {
          "model_module": "@jupyter-widgets/base",
          "model_name": "LayoutModel",
          "model_module_version": "1.2.0",
          "state": {
            "_model_module": "@jupyter-widgets/base",
            "_model_module_version": "1.2.0",
            "_model_name": "LayoutModel",
            "_view_count": null,
            "_view_module": "@jupyter-widgets/base",
            "_view_module_version": "1.2.0",
            "_view_name": "LayoutView",
            "align_content": null,
            "align_items": null,
            "align_self": null,
            "border": null,
            "bottom": null,
            "display": null,
            "flex": null,
            "flex_flow": null,
            "grid_area": null,
            "grid_auto_columns": null,
            "grid_auto_flow": null,
            "grid_auto_rows": null,
            "grid_column": null,
            "grid_gap": null,
            "grid_row": null,
            "grid_template_areas": null,
            "grid_template_columns": null,
            "grid_template_rows": null,
            "height": null,
            "justify_content": null,
            "justify_items": null,
            "left": null,
            "margin": null,
            "max_height": null,
            "max_width": null,
            "min_height": null,
            "min_width": null,
            "object_fit": null,
            "object_position": null,
            "order": null,
            "overflow": null,
            "overflow_x": null,
            "overflow_y": null,
            "padding": null,
            "right": null,
            "top": null,
            "visibility": null,
            "width": null
          }
        },
        "62c39bcb497a40a79e67f31db3d3cc22": {
          "model_module": "@jupyter-widgets/controls",
          "model_name": "DescriptionStyleModel",
          "model_module_version": "1.5.0",
          "state": {
            "_model_module": "@jupyter-widgets/controls",
            "_model_module_version": "1.5.0",
            "_model_name": "DescriptionStyleModel",
            "_view_count": null,
            "_view_module": "@jupyter-widgets/base",
            "_view_module_version": "1.2.0",
            "_view_name": "StyleView",
            "description_width": ""
          }
        },
        "ae0cb2afdbfc4e858ea8dbe6d5c02188": {
          "model_module": "@jupyter-widgets/base",
          "model_name": "LayoutModel",
          "model_module_version": "1.2.0",
          "state": {
            "_model_module": "@jupyter-widgets/base",
            "_model_module_version": "1.2.0",
            "_model_name": "LayoutModel",
            "_view_count": null,
            "_view_module": "@jupyter-widgets/base",
            "_view_module_version": "1.2.0",
            "_view_name": "LayoutView",
            "align_content": null,
            "align_items": null,
            "align_self": null,
            "border": null,
            "bottom": null,
            "display": null,
            "flex": null,
            "flex_flow": null,
            "grid_area": null,
            "grid_auto_columns": null,
            "grid_auto_flow": null,
            "grid_auto_rows": null,
            "grid_column": null,
            "grid_gap": null,
            "grid_row": null,
            "grid_template_areas": null,
            "grid_template_columns": null,
            "grid_template_rows": null,
            "height": null,
            "justify_content": null,
            "justify_items": null,
            "left": null,
            "margin": null,
            "max_height": null,
            "max_width": null,
            "min_height": null,
            "min_width": null,
            "object_fit": null,
            "object_position": null,
            "order": null,
            "overflow": null,
            "overflow_x": null,
            "overflow_y": null,
            "padding": null,
            "right": null,
            "top": null,
            "visibility": null,
            "width": null
          }
        },
        "edee46c846374faeb8b772293b693c23": {
          "model_module": "@jupyter-widgets/controls",
          "model_name": "ProgressStyleModel",
          "model_module_version": "1.5.0",
          "state": {
            "_model_module": "@jupyter-widgets/controls",
            "_model_module_version": "1.5.0",
            "_model_name": "ProgressStyleModel",
            "_view_count": null,
            "_view_module": "@jupyter-widgets/base",
            "_view_module_version": "1.2.0",
            "_view_name": "StyleView",
            "bar_color": null,
            "description_width": ""
          }
        },
        "341e28cb6bdb465d8f6ef36e9f2209e5": {
          "model_module": "@jupyter-widgets/base",
          "model_name": "LayoutModel",
          "model_module_version": "1.2.0",
          "state": {
            "_model_module": "@jupyter-widgets/base",
            "_model_module_version": "1.2.0",
            "_model_name": "LayoutModel",
            "_view_count": null,
            "_view_module": "@jupyter-widgets/base",
            "_view_module_version": "1.2.0",
            "_view_name": "LayoutView",
            "align_content": null,
            "align_items": null,
            "align_self": null,
            "border": null,
            "bottom": null,
            "display": null,
            "flex": null,
            "flex_flow": null,
            "grid_area": null,
            "grid_auto_columns": null,
            "grid_auto_flow": null,
            "grid_auto_rows": null,
            "grid_column": null,
            "grid_gap": null,
            "grid_row": null,
            "grid_template_areas": null,
            "grid_template_columns": null,
            "grid_template_rows": null,
            "height": null,
            "justify_content": null,
            "justify_items": null,
            "left": null,
            "margin": null,
            "max_height": null,
            "max_width": null,
            "min_height": null,
            "min_width": null,
            "object_fit": null,
            "object_position": null,
            "order": null,
            "overflow": null,
            "overflow_x": null,
            "overflow_y": null,
            "padding": null,
            "right": null,
            "top": null,
            "visibility": null,
            "width": null
          }
        },
        "30bb983fca8d4b9c8a1960d0479f7aae": {
          "model_module": "@jupyter-widgets/controls",
          "model_name": "DescriptionStyleModel",
          "model_module_version": "1.5.0",
          "state": {
            "_model_module": "@jupyter-widgets/controls",
            "_model_module_version": "1.5.0",
            "_model_name": "DescriptionStyleModel",
            "_view_count": null,
            "_view_module": "@jupyter-widgets/base",
            "_view_module_version": "1.2.0",
            "_view_name": "StyleView",
            "description_width": ""
          }
        }
      }
    },
    "accelerator": "GPU"
  },
  "cells": [
    {
      "cell_type": "markdown",
      "metadata": {
        "id": "view-in-github",
        "colab_type": "text"
      },
      "source": [
        "<a href=\"https://colab.research.google.com/github/Jiyeong-Oh/CIFAR-10-Classification-with-MLP-and-ResNet-20/blob/main/%5BCode%5D%20CIFAR_10_Classification_with_MLP_and_ResNet_20.ipynb\" target=\"_parent\"><img src=\"https://colab.research.google.com/assets/colab-badge.svg\" alt=\"Open In Colab\"/></a>"
      ]
    },
    {
      "cell_type": "markdown",
      "source": [
        "# Data Setting"
      ],
      "metadata": {
        "id": "qvsUC0oamuVI"
      }
    },
    {
      "cell_type": "code",
      "source": [
        "import torch\n",
        "import torchvision\n",
        "import torchvision.transforms as transforms\n",
        "import torch.nn as nn\n",
        "import torch.optim as optim\n",
        "import torch.nn.functional as F\n",
        "import numpy as np\n",
        "import pandas as pd\n",
        "\n",
        "\n",
        "transform = transforms.Compose ([transforms.ToTensor(),transforms.Normalize((0.5, 0.5, 0.5), (0.5, 0.5, 0.5 ))])\n",
        "batch_size = 64\n",
        "trainset = torchvision.datasets.CIFAR10(root ='./ data', train =True, download =True, transform = transform)\n",
        "testset = torchvision.datasets.CIFAR10(root ='./ data', train =False, download =True, transform = transform)\n",
        "classes = ('plane', 'car', 'bird', 'cat','deer', 'dog', 'frog', 'horse', 'ship', 'truck')"
      ],
      "metadata": {
        "id": "z7ZlaldLidmQ",
        "colab": {
          "base_uri": "https://localhost:8080/",
          "height": 103,
          "referenced_widgets": [
            "a6e8af8351fa4ff9af579c0aef511098",
            "78eddaeaa1f9482880d6acd94f36379e",
            "2602fa2422b84c889253cb80a9278d7f",
            "b44300755744451e842795c4330148c4",
            "43d901fdd0cb48deb5660505d047c438",
            "c5ab104559b74a4ea572aa8d777e01ab",
            "62c39bcb497a40a79e67f31db3d3cc22",
            "ae0cb2afdbfc4e858ea8dbe6d5c02188",
            "edee46c846374faeb8b772293b693c23",
            "341e28cb6bdb465d8f6ef36e9f2209e5",
            "30bb983fca8d4b9c8a1960d0479f7aae"
          ]
        },
        "outputId": "aa3fb077-9f3c-43d2-8dc2-bc5620dfa95a"
      },
      "execution_count": null,
      "outputs": [
        {
          "output_type": "stream",
          "name": "stdout",
          "text": [
            "Downloading https://www.cs.toronto.edu/~kriz/cifar-10-python.tar.gz to ./ data/cifar-10-python.tar.gz\n"
          ]
        },
        {
          "output_type": "display_data",
          "data": {
            "text/plain": [
              "  0%|          | 0/170498071 [00:00<?, ?it/s]"
            ],
            "application/vnd.jupyter.widget-view+json": {
              "version_major": 2,
              "version_minor": 0,
              "model_id": "a6e8af8351fa4ff9af579c0aef511098"
            }
          },
          "metadata": {}
        },
        {
          "output_type": "stream",
          "name": "stdout",
          "text": [
            "Extracting ./ data/cifar-10-python.tar.gz to ./ data\n",
            "Files already downloaded and verified\n"
          ]
        }
      ]
    },
    {
      "cell_type": "code",
      "source": [
        "trainset.data.shape"
      ],
      "metadata": {
        "colab": {
          "base_uri": "https://localhost:8080/"
        },
        "id": "Furap1nkTaZl",
        "outputId": "7712483a-50c2-48e5-9eb9-ea2eb398c635"
      },
      "execution_count": null,
      "outputs": [
        {
          "output_type": "execute_result",
          "data": {
            "text/plain": [
              "(50000, 32, 32, 3)"
            ]
          },
          "metadata": {},
          "execution_count": 2
        }
      ]
    },
    {
      "cell_type": "code",
      "source": [
        "cuda = torch.device('cuda')\n",
        "torch.cuda.is_available()"
      ],
      "metadata": {
        "colab": {
          "base_uri": "https://localhost:8080/"
        },
        "id": "ZRUI0yUQkqwK",
        "outputId": "fe2d38d1-092e-4f8c-9b4f-bc4c3064d5ef"
      },
      "execution_count": null,
      "outputs": [
        {
          "output_type": "execute_result",
          "data": {
            "text/plain": [
              "True"
            ]
          },
          "metadata": {},
          "execution_count": 3
        }
      ]
    },
    {
      "cell_type": "code",
      "source": [
        "def val_split(attr, tar): # attr: features, tar: target label\n",
        "  # Making Dictionary with Answer Label as Key and its Indices as Value\n",
        "  # so that we can split them into train/validation/test with the same digit propotion.\n",
        "  y_dict = dict(zip([i for i in np.unique(tar)], [list(np.where(tar==i))[0] for i in np.unique(tar)]))\n",
        "  y_dict = dict(zip([i for i in np.unique(tar)], [list(np.random.choice(y_dict[i], len(y_dict[i]), replace = False)) for i in y_dict.keys()])) # Shuffling\n",
        "\n",
        "  train_idx=[]\n",
        "  val_idx=[]\n",
        "  val_tmp = [y_dict[i][:500] for i in sorted(y_dict.keys())] # Trimming validation set (500 for each label)\n",
        "  train_tmp = [y_dict[i][500:] for i in sorted(y_dict.keys())] #Ttrimming training set (leftovers)\n",
        "  \n",
        "  for i in range(len(sorted(y_dict.keys()))):\n",
        "    train_idx+=train_tmp[i]\n",
        "    val_idx+=val_tmp[i]\n",
        "\n",
        "  # Converting into Tensor Type\n",
        "  tar = pd.Series(tar)\n",
        "  X_train, y_train = torch.tensor(attr[train_idx], device=cuda), torch.tensor(tar.loc[train_idx].to_numpy(), device=cuda)\n",
        "  X_val, y_val = torch.tensor(attr[val_idx], device=cuda), torch.tensor(tar.loc[val_idx].to_numpy(), device=cuda)\n",
        "  \n",
        "  return X_train, y_train, X_val, y_val"
      ],
      "metadata": {
        "id": "ubTjizbkrhw0"
      },
      "execution_count": null,
      "outputs": []
    },
    {
      "cell_type": "markdown",
      "source": [
        "# Problem 1: MLP for CIFAR-10"
      ],
      "metadata": {
        "id": "uGbMdPeBm31v"
      }
    },
    {
      "cell_type": "code",
      "source": [
        "###############################\n",
        "# Remote Controller\n",
        "###############################\n",
        "epochs_num = 5\n",
        "batch_size = 64\n",
        "optimizer_choose = 'Adam'\n",
        "learning_rate = 0.0001\n",
        "final_test = True # only true for final test accuracy\n",
        "\n",
        "class MLP_multi(nn.Module):\n",
        "  def __init__(self, input_dim, output_dim):\n",
        "    super(MLP_multi, self).__init__()\n",
        "    self.module1 = nn.Linear(input_dim, 256, bias=True) #input layer -> hidden layer1\n",
        "    self.module2 = nn.Linear(256, 256, bias=True) #hidden layer1 -> hidden layer2\n",
        "    self.module3 = nn.Linear(256, output_dim, bias=True) #hidden layer 2 -> output layer. here, the output layer should be the number of classes (10)\n",
        "\n",
        "  def forward(self, x):\n",
        "    x = F.relu(self.module1(x))\n",
        "    x = F.relu(self.module2(x))\n",
        "    y_pred = self.module3(x)\n",
        "    # softmax is gonna be applied when cross entropy loss is calculated\n",
        "    return y_pred"
      ],
      "metadata": {
        "id": "8L8AsNm0m3W3"
      },
      "execution_count": null,
      "outputs": []
    },
    {
      "cell_type": "code",
      "source": [
        "def multiMLP(trainSet, testSet, epochs_num=epochs_num, batch_size=batch_size, optimizer_choose=optimizer_choose, learning_rate=learning_rate, final_test=final_test):\n",
        "  # Data Splitting\n",
        "  X_train, y_train, X_val, y_val = val_split(trainSet.data.astype('float32'), np.array(trainSet.targets, dtype=np.int64))\n",
        "  X_test, y_test = torch.tensor(testSet.data.astype('float32')), torch.tensor(np.array(testSet.targets, dtype=np.int64))\n",
        "  \n",
        "  #########################################\n",
        "  ## reshaping Xs, only for MLP\n",
        "  #########################################\n",
        "  X_train = X_train.reshape(X_train.shape[0], 32*32*3)\n",
        "  X_val = X_val.reshape(X_val.shape[0], 32*32*3)\n",
        "  X_test = X_test.reshape(X_test.shape[0], 32*32*3)\n",
        "  data_size = len(X_train)\n",
        "\n",
        "  # Model Training\n",
        "  model = MLP_multi(X_train.shape[1], 10).cuda()\n",
        "  if optimizer_choose == 'SGD':\n",
        "    optimizer = optim.SGD(model.parameters(), lr = learning_rate)\n",
        "  elif optimizer_choose == 'Adam':\n",
        "    optimizer = optim.Adam(model.parameters(), lr = learning_rate)\n",
        "  model.train()\n",
        "  criterion = nn.CrossEntropyLoss() # loss function\n",
        "\n",
        "  for epoch in range(epochs_num):\n",
        "    cost = 0\n",
        "    batch = torch.randperm(data_size) # batch mixing\n",
        "    for i in range(0, data_size, batch_size):\n",
        "      input = X_train[batch[i:i+batch_size]].cuda()\n",
        "      answer = y_train[batch[i:i+batch_size]]\n",
        "      optimizer.zero_grad()\n",
        "      prediction = model(input)\n",
        "      loss = criterion(prediction, answer)\n",
        "      loss.backward()\n",
        "      optimizer.step()\n",
        "      cost += loss.data\n",
        "\n",
        "    # Validation Check\n",
        "    model.eval()\n",
        "    with torch.no_grad():\n",
        "      val_prediction = model(X_val.cuda())\n",
        "      acc_count = 0\n",
        "      for i in range(len(val_prediction)):\n",
        "        pred = torch.argmax(val_prediction[i])\n",
        "        if pred==y_val[i]:\n",
        "          acc_count+=1\n",
        "      # Train Loss & Validation Accuracy\n",
        "      print('Epoch Train Loss {}: {: .2f}'.format(epoch,cost),  \", Validation Accuracy: {: .2f}\".format(acc_count/len(y_val)))\n",
        "    \n",
        "  # Final Test Accuracy Check\n",
        "  if final_test==True:\n",
        "    model.eval()\n",
        "    with torch.no_grad():\n",
        "      test_prediction = model(X_test.cuda())\n",
        "      acc_count = 0\n",
        "      for i in range(len(test_prediction)):\n",
        "        pred = torch.argmax(test_prediction[i])\n",
        "        if pred==y_test[i]:\n",
        "          acc_count+=1\n",
        "      print(\"Final Test Accuracy: {: .2f}\".format(acc_count/len(y_test)))"
      ],
      "metadata": {
        "id": "IkwgWse-m8Os"
      },
      "execution_count": null,
      "outputs": []
    },
    {
      "cell_type": "code",
      "source": [
        "multiMLP(trainset, testset, epochs_num, batch_size, optimizer_choose, learning_rate, final_test)"
      ],
      "metadata": {
        "id": "K7W6KmuCot0l",
        "colab": {
          "base_uri": "https://localhost:8080/"
        },
        "outputId": "1d90107c-99aa-4212-a029-dca2c758ec52"
      },
      "execution_count": null,
      "outputs": [
        {
          "output_type": "stream",
          "name": "stdout",
          "text": [
            "Epoch Train Loss 0:  1757.92 , Validation Accuracy:  0.32\n",
            "Epoch Train Loss 1:  1309.56 , Validation Accuracy:  0.37\n",
            "Epoch Train Loss 2:  1243.85 , Validation Accuracy:  0.37\n",
            "Epoch Train Loss 3:  1198.21 , Validation Accuracy:  0.39\n",
            "Epoch Train Loss 4:  1174.15 , Validation Accuracy:  0.40\n",
            "Final Test Accuracy:  0.40\n"
          ]
        }
      ]
    },
    {
      "cell_type": "markdown",
      "source": [
        "# Problem 2: ResNet-20 for CIFAR-10"
      ],
      "metadata": {
        "id": "v8-vPqxkm8za"
      }
    },
    {
      "cell_type": "code",
      "source": [
        "class Building_Block(nn.Module):\n",
        "  def __init__(self, input_dim, output_dim, downsample=None, stride=1):\n",
        "    super(Building_Block, self).__init__()\n",
        "    self.conv1 = nn.Conv2d(input_dim, output_dim, kernel_size=3, stride=stride, padding=1, bias=False)\n",
        "    self.batchNorm1 = nn.BatchNorm2d(output_dim)\n",
        "    self.relu = nn.ReLU(inplace=True)\n",
        "    self.conv2 = nn.Conv2d(output_dim, output_dim, kernel_size=3, stride=1, padding=1, bias=False)\n",
        "    self.batchNorm2 = nn.BatchNorm2d(output_dim)\n",
        "    self.downsample = downsample\n",
        "    self.stride = stride\n",
        "\n",
        "  def forward(self, x):\n",
        "    identity_mapping = x\n",
        "\n",
        "    out = self.conv1(x)\n",
        "    out = self.batchNorm1(out)\n",
        "    out = self.relu(out)\n",
        "    out = self.conv2(out)\n",
        "    out = self.batchNorm2(out)\n",
        "\n",
        "    # skip connection\n",
        "    if self.downsample != None:\n",
        "      identity_mapping = self.downsample(x)\n",
        "    out += identity_mapping\n",
        "    out = self.relu(out)\n",
        "\n",
        "    return out"
      ],
      "metadata": {
        "id": "McjoPJVtZYzZ"
      },
      "execution_count": null,
      "outputs": []
    },
    {
      "cell_type": "code",
      "source": [
        "class ResNet_20(nn.Module):\n",
        "  def __init__(self):\n",
        "    super(ResNet_20, self).__init__()\n",
        "    self.input_dim = 64\n",
        "\n",
        "    # 가장 초기 입력 시 사용 convolution\n",
        "    self.conv1 = nn.Conv2d(in_channels=3, out_channels=16, kernel_size=3, stride=1, padding=1, bias=False)\n",
        "    self.batchNorm1 = nn.BatchNorm2d(16)\n",
        "    self.relu = nn.ReLU(inplace=True)\n",
        "    # self.pooling = nn.MaxPool2d(3, stride=2) # for conv2_x\n",
        "\n",
        "    # layer에 들어가는.\n",
        "    self.conv2_x = self.make_layer(16, 16)\n",
        "    self.conv4_x = self.make_layer(16, 32)\n",
        "    self.conv6_x = self.make_layer(32, 64)\n",
        "\n",
        "\n",
        "    self.avgpool = nn.AdaptiveAvgPool2d((1, 1))\n",
        "    self.fc = nn.Linear(64, 10)\n",
        "\n",
        "\n",
        "  def make_layer(self,in_channel, out_channel):\n",
        "    if in_channel != out_channel:\n",
        "      downsample = nn.Sequential(\n",
        "          nn.Conv2d(in_channel, out_channel, kernel_size=3, stride=2, padding=1, bias=False),\n",
        "          nn.BatchNorm2d(out_channel)\n",
        "      )\n",
        "      layers_list = nn.ModuleList([Building_Block(in_channel, out_channel, downsample=downsample, stride=2)])\n",
        "    else:\n",
        "      layers_list = nn.ModuleList([Building_Block(in_channel, out_channel, downsample=None, stride=1)])\n",
        "\n",
        "    for i in range(2): # 3-1 = 2\n",
        "      layers_list.append(Building_Block(out_channel, out_channel, downsample=None, stride=1))\n",
        "    return nn.Sequential(*layers_list)\n",
        "  \n",
        "  def forward(self, x):\n",
        "    #first layer\n",
        "    out = self.conv1(x)\n",
        "    out = self.batchNorm1(out)\n",
        "    out = self.relu(out)\n",
        "\n",
        "    out = self.conv2_x(out)\n",
        "    out = self.conv4_x(out)\n",
        "    out = self.conv6_x(out)\n",
        "\n",
        "    out = self.avgpool(out)\n",
        "    out = torch.reshape(out, (-1,batch_size))\n",
        "    y_pred = self.fc(out)\n",
        "\n",
        "    return y_pred\n",
        "  \n",
        "  def implement(self, x):\n",
        "    return self.forward(x)"
      ],
      "metadata": {
        "id": "_xOUq2O6ZY1n"
      },
      "execution_count": null,
      "outputs": []
    },
    {
      "cell_type": "code",
      "source": [
        "epochs_num = 5\n",
        "batch_size = 64\n",
        "optimizer_choose = 'Adam'\n",
        "learning_rate = 0.0001\n",
        "final_test = True # only true for final test accuracy\n",
        "\n",
        "def ResNet(trainSet, testSet, epochs_num=epochs_num, batch_size=batch_size, optimizer_choose=optimizer_choose, learning_rate=learning_rate, final_test=final_test):\n",
        "  # Data Splitting\n",
        "  X_train, y_train, X_val, y_val = val_split(trainSet.data.astype('float32'), np.array(trainSet.targets, dtype=np.int64))\n",
        "  X_test, y_test = torch.tensor(testSet.data.astype('float32')), torch.tensor(np.array(testSet.targets, dtype=np.int64))\n",
        "  data_size = len(X_train)\n",
        "\n",
        "  # Model Training\n",
        "  model = ResNet_20().cuda()\n",
        "  if optimizer_choose == 'SGD':\n",
        "    optimizer = optim.SGD(model.parameters(), lr = learning_rate)\n",
        "  elif optimizer_choose == 'Adam':\n",
        "    optimizer = optim.Adam(model.parameters(), lr = learning_rate)\n",
        "  model.train()\n",
        "  criterion = nn.CrossEntropyLoss() # loss function\n",
        "\n",
        "  for epoch in range(epochs_num):\n",
        "    cost = 0\n",
        "    batch = torch.randperm(data_size) # batch mixing\n",
        "    for i in range(0, data_size, batch_size):\n",
        "      input = X_train[batch[i:i+batch_size]].cuda().permute(0,3,1,2)\n",
        "      answer = y_train[batch[i:i+batch_size]]\n",
        "      optimizer.zero_grad()\n",
        "      prediction = model(input)\n",
        "      loss = criterion(prediction, answer)\n",
        "      loss.backward()\n",
        "      optimizer.step()\n",
        "      cost += loss.data\n",
        "\n",
        "    # Validation Check\n",
        "    model.eval()\n",
        "    with torch.no_grad():\n",
        "      val_prediction = model(X_val.cuda().permute(0,3,1,2))\n",
        "      acc_count = 0\n",
        "      for i in range(len(val_prediction)):\n",
        "        pred = torch.argmax(val_prediction[i])\n",
        "        if pred==y_val[i]:\n",
        "          acc_count+=1\n",
        "      # Train Loss & Validation Accuracy\n",
        "      print('Epoch Train Loss {}: {: .2f}'.format(epoch,cost),  \", Validation Accuracy: {: .2f}\".format(acc_count/len(y_val)))\n",
        "    \n",
        "  # Final Test Accuracy Check\n",
        "  if final_test==True:\n",
        "    model.eval()\n",
        "    with torch.no_grad():\n",
        "      test_prediction = model(X_test.cuda().permute(0,3,1,2))\n",
        "      acc_count = 0\n",
        "      for i in range(len(test_prediction)):\n",
        "        pred = torch.argmax(test_prediction[i])\n",
        "        if pred==y_test[i]:\n",
        "          acc_count+=1\n",
        "      print(\"Final Test Accuracy: {: .2f}\".format(acc_count/len(y_test)))"
      ],
      "metadata": {
        "id": "RcpSOPC_ZY4Y"
      },
      "execution_count": null,
      "outputs": []
    },
    {
      "cell_type": "code",
      "source": [
        "ResNet(trainset, testset, epochs_num, batch_size, optimizer_choose, learning_rate, final_test)"
      ],
      "metadata": {
        "colab": {
          "base_uri": "https://localhost:8080/"
        },
        "id": "MdaGZMknlksa",
        "outputId": "8bfa73a3-92e4-405c-aba9-8fad4a333c5c"
      },
      "execution_count": null,
      "outputs": [
        {
          "output_type": "stream",
          "name": "stdout",
          "text": [
            "Epoch Train Loss 0:  1133.53 , Validation Accuracy:  0.48\n",
            "Epoch Train Loss 1:  949.43 , Validation Accuracy:  0.53\n",
            "Epoch Train Loss 2:  857.16 , Validation Accuracy:  0.58\n",
            "Epoch Train Loss 3:  798.46 , Validation Accuracy:  0.57\n",
            "Epoch Train Loss 4:  749.50 , Validation Accuracy:  0.61\n",
            "Final Test Accuracy:  0.61\n"
          ]
        }
      ]
    }
  ]
}